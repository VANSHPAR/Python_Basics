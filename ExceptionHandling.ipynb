{
 "cells": [
  {
   "cell_type": "code",
   "execution_count": 2,
   "id": "65254096",
   "metadata": {},
   "outputs": [
    {
     "name": "stdout",
     "output_type": "stream",
     "text": [
      "mango\n",
      "apple\n",
      "orange\n",
      "exception handled\n",
      "executed\n"
     ]
    }
   ],
   "source": [
    "arr=[\"mango\",\"apple\",\"orange\"]\n",
    "\n",
    "    \n",
    "try : \n",
    "     for i in range(4):\n",
    "       print(arr[i])\n",
    "\n",
    "except:\n",
    "    print(\"exception handled\")\n",
    "\n",
    "print(\"executed\")"
   ]
  },
  {
   "cell_type": "code",
   "execution_count": 3,
   "id": "fe7c867c",
   "metadata": {},
   "outputs": [
    {
     "ename": "Exception",
     "evalue": "len of list is 3 < 4",
     "output_type": "error",
     "traceback": [
      "\u001b[31m---------------------------------------------------------------------------\u001b[39m",
      "\u001b[31mException\u001b[39m                                 Traceback (most recent call last)",
      "\u001b[36mCell\u001b[39m\u001b[36m \u001b[39m\u001b[32mIn[3]\u001b[39m\u001b[32m, line 4\u001b[39m\n\u001b[32m      2\u001b[39m arr=[\u001b[32m1\u001b[39m,\u001b[32m2\u001b[39m,\u001b[32m3\u001b[39m]\n\u001b[32m      3\u001b[39m \u001b[38;5;28;01mif\u001b[39;00m \u001b[38;5;28mlen\u001b[39m(arr)<\u001b[32m4\u001b[39m :\n\u001b[32m----> \u001b[39m\u001b[32m4\u001b[39m     \u001b[38;5;28;01mraise\u001b[39;00m \u001b[38;5;167;01mException\u001b[39;00m(\u001b[33mf\u001b[39m\u001b[33m'\u001b[39m\u001b[33mlen of list is \u001b[39m\u001b[38;5;132;01m{\u001b[39;00m\u001b[38;5;28mlen\u001b[39m(arr)\u001b[38;5;132;01m}\u001b[39;00m\u001b[33m < 4\u001b[39m\u001b[33m'\u001b[39m)\n",
      "\u001b[31mException\u001b[39m: len of list is 3 < 4"
     ]
    }
   ],
   "source": [
    "#user exception\n",
    "arr=[1,2,3]\n",
    "if len(arr)<4 :\n",
    "    raise Exception(f'len of list is {len(arr)} < 4')\n"
   ]
  },
  {
   "cell_type": "code",
   "execution_count": null,
   "id": "20fbb0de",
   "metadata": {},
   "outputs": [
    {
     "name": "stdout",
     "output_type": "stream",
     "text": [
      "2.0\n",
      "please provide +ve ineger for cube root\n"
     ]
    }
   ],
   "source": [
    "#using assert \n",
    "def cube_root(num):\n",
    "    assert (num>=0) , \"pass +ve number\"\n",
    "    return num**(1/3)\n",
    "\n",
    "print(cube_root(8))\n",
    "try:\n",
    "    val = cube_root(-8)\n",
    "    print(val)\n",
    "except:\n",
    "    print(\"please provide +ve ineger for cube root\")\n"
   ]
  },
  {
   "cell_type": "code",
   "execution_count": 11,
   "id": "bb8f691c",
   "metadata": {},
   "outputs": [
    {
     "name": "stdout",
     "output_type": "stream",
     "text": [
      "can't divide num by 0\n"
     ]
    }
   ],
   "source": [
    "def operate(num):\n",
    "    try:\n",
    "        result=5/num\n",
    "    except ZeroDivisionError:\n",
    "        print(\"can't divide num by 0\")\n",
    "    else:\n",
    "        print(result)\n",
    "\n",
    "\n",
    "\n",
    "operate(0)"
   ]
  },
  {
   "cell_type": "code",
   "execution_count": 12,
   "id": "23d5049b",
   "metadata": {},
   "outputs": [
    {
     "name": "stdout",
     "output_type": "stream",
     "text": [
      "can't divide num by 0\n",
      "always executed\n"
     ]
    }
   ],
   "source": [
    "def operate(num):\n",
    "    try:\n",
    "        result=5/num\n",
    "    except ZeroDivisionError:\n",
    "        print(\"can't divide num by 0\")\n",
    "    finally:\n",
    "        print(\"always executed\")\n",
    "\n",
    "operate(0)"
   ]
  }
 ],
 "metadata": {
  "kernelspec": {
   "display_name": "Python 3",
   "language": "python",
   "name": "python3"
  },
  "language_info": {
   "codemirror_mode": {
    "name": "ipython",
    "version": 3
   },
   "file_extension": ".py",
   "mimetype": "text/x-python",
   "name": "python",
   "nbconvert_exporter": "python",
   "pygments_lexer": "ipython3",
   "version": "3.12.1"
  }
 },
 "nbformat": 4,
 "nbformat_minor": 5
}

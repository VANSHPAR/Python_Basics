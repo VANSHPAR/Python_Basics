{
 "cells": [
  {
   "cell_type": "code",
   "execution_count": null,
   "id": "e100cd72",
   "metadata": {},
   "outputs": [
    {
     "name": "stdout",
     "output_type": "stream",
     "text": [
      "(2, 4)\n",
      "8\n",
      "2\n"
     ]
    }
   ],
   "source": [
    "import numpy as np\n",
    "arr=np.array([[1,2,3,8],\n",
    "              [4,5,6,7]])\n",
    "print(arr.shape) #no.of rows & cols\n",
    "print(arr.size)  #no. of eles\n"
   ]
  },
  {
   "cell_type": "code",
   "execution_count": 9,
   "id": "7d69ac5b",
   "metadata": {},
   "outputs": [
    {
     "name": "stdout",
     "output_type": "stream",
     "text": [
      "1\n",
      "2\n",
      "3\n",
      "int64\n"
     ]
    }
   ],
   "source": [
    "import numpy as np\n",
    "arr1=np.array([8,9,10])\n",
    "arr2=np.array([[1,2,3,8],[4,5,6,7]])\n",
    "arr3=np.array([[[1,2],[3,4],[5,6],[7,8]]])\n",
    "\n",
    "print(arr1.ndim) #no. of dimensons\n",
    "print(arr2.ndim)\n",
    "print(arr3.ndim)\n",
    "print(arr1.dtype) #data type of eles of array"
   ]
  },
  {
   "cell_type": "code",
   "execution_count": 23,
   "id": "e46d5635",
   "metadata": {},
   "outputs": [
    {
     "name": "stdout",
     "output_type": "stream",
     "text": [
      "[ 8  9 10] int64\n",
      "['8.7' '9.1' '10.02'] <U32\n"
     ]
    }
   ],
   "source": [
    "import numpy as np\n",
    "arr1=np.array([8.7,9.1,10.02])\n",
    "arr2=arr1.astype(int)\n",
    "arr3=arr1.astype(str)\n",
    "print(arr2,arr2.dtype)\n",
    "print(arr3,arr3.dtype)"
   ]
  },
  {
   "cell_type": "code",
   "execution_count": 21,
   "id": "0755d1c1",
   "metadata": {},
   "outputs": [
    {
     "name": "stdout",
     "output_type": "stream",
     "text": [
      "[13 14 15]\n",
      "[40 45 50]\n",
      "[3 4 5]\n",
      "[ 64  81 100]\n",
      "[4.  4.5 5. ]\n",
      "[0 1 0]\n"
     ]
    }
   ],
   "source": [
    "#Operations\n",
    "import numpy as np\n",
    "arr1=np.array([8,9,10])\n",
    "\n",
    "print(arr1+5)\n",
    "print(arr1*5)\n",
    "print(arr1-5)\n",
    "print(arr1**2)\n",
    "print(arr1/2)\n",
    "print(arr1%2)"
   ]
  },
  {
   "cell_type": "code",
   "execution_count": null,
   "id": "6aba8ba9",
   "metadata": {},
   "outputs": [
    {
     "name": "stdout",
     "output_type": "stream",
     "text": [
      "6\n",
      "2.0\n",
      "1\n",
      "3\n",
      "0.816496580927726\n",
      "0.6666666666666666\n"
     ]
    }
   ],
   "source": [
    "#Aggregation \n",
    "import numpy as np\n",
    "arr=np.array([1,2,3])\n",
    "\n",
    "print(np.sum(arr))\n",
    "print(np.mean(arr))\n",
    "print(np.min(arr))\n",
    "print(np.max(arr))\n",
    "print(np.std(arr))\n",
    "print(np.var(arr))\n",
    "#standard deviation=underroot((sum of(x-xbar)*(x-xbar))/n)\n",
    "#xbar=average\n",
    "#variance=(sum of(x-xbar)*(x-xbar))/n"
   ]
  }
 ],
 "metadata": {
  "kernelspec": {
   "display_name": "Python 3",
   "language": "python",
   "name": "python3"
  },
  "language_info": {
   "codemirror_mode": {
    "name": "ipython",
    "version": 3
   },
   "file_extension": ".py",
   "mimetype": "text/x-python",
   "name": "python",
   "nbconvert_exporter": "python",
   "pygments_lexer": "ipython3",
   "version": "3.12.1"
  }
 },
 "nbformat": 4,
 "nbformat_minor": 5
}

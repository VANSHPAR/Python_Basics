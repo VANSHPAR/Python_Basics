{
 "cells": [
  {
   "cell_type": "code",
   "execution_count": 4,
   "id": "da2e9f46",
   "metadata": {},
   "outputs": [
    {
     "name": "stdout",
     "output_type": "stream",
     "text": [
      "<class '__main__.Person'>\n",
      "vansh 55\n"
     ]
    }
   ],
   "source": [
    "class  Person:\n",
    "    name = \"vansh\"\n",
    "    age = 55\n",
    "\n",
    "\n",
    "\n",
    "obj = Person()\n",
    "print(type(obj))\n",
    "print(obj.name,obj.age)"
   ]
  },
  {
   "cell_type": "code",
   "execution_count": 6,
   "id": "8d9c6e46",
   "metadata": {},
   "outputs": [
    {
     "name": "stdout",
     "output_type": "stream",
     "text": [
      "cricket\n"
     ]
    },
    {
     "ename": "AttributeError",
     "evalue": "'Person' object has no attribute 'hobby'",
     "output_type": "error",
     "traceback": [
      "\u001b[31m---------------------------------------------------------------------------\u001b[39m",
      "\u001b[31mAttributeError\u001b[39m                            Traceback (most recent call last)",
      "\u001b[36mCell\u001b[39m\u001b[36m \u001b[39m\u001b[32mIn[6]\u001b[39m\u001b[32m, line 6\u001b[39m\n\u001b[32m      3\u001b[39m \u001b[38;5;28mprint\u001b[39m(obj.hobby)\n\u001b[32m      5\u001b[39m per=Person()\n\u001b[32m----> \u001b[39m\u001b[32m6\u001b[39m \u001b[38;5;28mprint\u001b[39m(\u001b[43mper\u001b[49m\u001b[43m.\u001b[49m\u001b[43mhobby\u001b[49m)\n",
      "\u001b[31mAttributeError\u001b[39m: 'Person' object has no attribute 'hobby'"
     ]
    }
   ],
   "source": [
    "obj.hobby =\"cricket\"\n",
    "obj.gender=\"male\"\n",
    "print(obj.hobby)\n",
    "\n",
    "per=Person()\n",
    "print(per.hobby)\n",
    "\n"
   ]
  },
  {
   "cell_type": "code",
   "execution_count": 7,
   "id": "3bc33d4d",
   "metadata": {},
   "outputs": [
    {
     "name": "stdout",
     "output_type": "stream",
     "text": [
      "tinu vansh\n"
     ]
    }
   ],
   "source": [
    "class  Person:\n",
    "   #constructor\n",
    "   def __init__(self,name,age):\n",
    "      self.name=name\n",
    "      self.age=age\n",
    "\n",
    "per = Person(\"vansh\",11)\n",
    "per1=Person(\"tinu\",23)\n",
    "\n",
    "print(per1.name,per.name)\n"
   ]
  },
  {
   "cell_type": "code",
   "execution_count": null,
   "id": "e4562eee",
   "metadata": {},
   "outputs": [
    {
     "ename": "TypeError",
     "evalue": "Person.__init__() takes 2 positional arguments but 3 were given",
     "output_type": "error",
     "traceback": [
      "\u001b[31m---------------------------------------------------------------------------\u001b[39m",
      "\u001b[31mTypeError\u001b[39m                                 Traceback (most recent call last)",
      "\u001b[36mCell\u001b[39m\u001b[36m \u001b[39m\u001b[32mIn[6]\u001b[39m\u001b[32m, line 12\u001b[39m\n\u001b[32m      7\u001b[39m    \u001b[38;5;28;01mdef\u001b[39;00m\u001b[38;5;250m \u001b[39m\u001b[34m__init__\u001b[39m(\u001b[38;5;28mself\u001b[39m,name):\n\u001b[32m      8\u001b[39m       \u001b[38;5;28mself\u001b[39m.name=name\n\u001b[32m---> \u001b[39m\u001b[32m12\u001b[39m per1=\u001b[43mPerson\u001b[49m\u001b[43m(\u001b[49m\u001b[33;43m\"\u001b[39;49m\u001b[33;43mvanhs\u001b[39;49m\u001b[33;43m\"\u001b[39;49m\u001b[43m,\u001b[49m\u001b[32;43m11\u001b[39;49m\u001b[43m)\u001b[49m\n\u001b[32m     13\u001b[39m \u001b[38;5;28mprint\u001b[39m(per1.name)\n",
      "\u001b[31mTypeError\u001b[39m: Person.__init__() takes 2 positional arguments but 3 were given"
     ]
    }
   ],
   "source": [
    "class  Person:\n",
    "   #constructor\n",
    "   def __init__(self,name,age):\n",
    "      self.name=name\n",
    "      self.age=age\n",
    "\n",
    "   def __init__(self,name): #this is final constructor above constructor not considerd\n",
    "      self.name=name\n",
    "      \n",
    "\n",
    "\n",
    "per1=Person(\"vanhs\",11)\n",
    "print(per1.name)\n",
    "\n"
   ]
  },
  {
   "cell_type": "code",
   "execution_count": null,
   "id": "b28aad80",
   "metadata": {},
   "outputs": [
    {
     "name": "stdout",
     "output_type": "stream",
     "text": [
      "vahs 55 cricket\n",
      "vanshs 11 cricket\n",
      "vahs 23 movie\n"
     ]
    }
   ],
   "source": [
    "class Person :\n",
    "    def __init__(self,name,age=55,hobby=\"cricket\"):\n",
    "        self.name=name\n",
    "        self.age=age\n",
    "        self.hobby=hobby\n",
    "\n",
    "per1=Person(\"vahs\")\n",
    "per2=Person(\"vanshs\",11)\n",
    "per3=Person(\"vanhs\",23,\"movie\")\n",
    "print(per1.name,per1.age,per1.hobby)\n",
    "print(per2.name,per2.age,per2.hobby)\n",
    "print(per3.name,per3.age,per3.hobby)"
   ]
  },
  {
   "cell_type": "code",
   "execution_count": 9,
   "id": "2cf3cb77",
   "metadata": {},
   "outputs": [
    {
     "name": "stdout",
     "output_type": "stream",
     "text": [
      "vansh india\n",
      "vanshhh india\n",
      "india\n"
     ]
    }
   ],
   "source": [
    "class Person:\n",
    "    coutry=\"india\" # class attribute ->never changes \n",
    "    def __init__(self,name,age):\n",
    "        self.name=name # instance attribute -> chnges for every object\n",
    "        self.age=age\n",
    "\n",
    "per1=Person(\"vansh\",12)\n",
    "per2=Person(\"vanshhh\",73)\n",
    "print(per1.name,per1.coutry)\n",
    "print(per2.name,per2.coutry)\n",
    "print(Person.coutry)\n",
    "        "
   ]
  },
  {
   "cell_type": "code",
   "execution_count": 10,
   "id": "bf6495b3",
   "metadata": {},
   "outputs": [
    {
     "name": "stdout",
     "output_type": "stream",
     "text": [
      "11\n"
     ]
    }
   ],
   "source": [
    "class Person:\n",
    "   \n",
    "    def __init__(self,name,age):\n",
    "        self.name=name\n",
    "        self.age=age\n",
    "\n",
    "    def findAge(self):  #instance method\n",
    "        return self.age\n",
    "    \n",
    "per=Person(\"vansh\",11)\n",
    "print(per.findAge())"
   ]
  },
  {
   "cell_type": "code",
   "execution_count": null,
   "id": "07f30dc5",
   "metadata": {},
   "outputs": [
    {
     "name": "stdout",
     "output_type": "stream",
     "text": [
      "hello from class method india\n",
      "hello from class method india\n"
     ]
    }
   ],
   "source": [
    "#class Method\n",
    "#class method has access to class attributes not accesss to instance attributes\n",
    "class Person:\n",
    "    country=\"india\"\n",
    "\n",
    "    @classmethod   #annotation\n",
    "    def greet(cls):\n",
    "        print(\"hello from class method\",cls.country)\n",
    "\n",
    "    def __init__(self,name,age):\n",
    "        self.name=name\n",
    "        self.age=age\n",
    "\n",
    "   \n",
    "per=Person(\"vansh\",11)\n",
    "per.greet()\n",
    "Person.greet()"
   ]
  },
  {
   "cell_type": "code",
   "execution_count": 16,
   "id": "b13b4851",
   "metadata": {},
   "outputs": [
    {
     "name": "stdout",
     "output_type": "stream",
     "text": [
      "hello from class method india\n",
      "hello from class method india\n",
      "hello\n",
      "hello\n"
     ]
    }
   ],
   "source": [
    "#static method\n",
    "#it not has access to class attributes as well as not accesss to instance attributes\n",
    "class Person:\n",
    "    country=\"india\"\n",
    "\n",
    "    @classmethod   #annotation\n",
    "    def greet(cls):\n",
    "        print(\"hello from class method\",cls.country)\n",
    "\n",
    "    @staticmethod\n",
    "    def hello():\n",
    "        print(\"hello\")\n",
    "\n",
    "    def __init__(self,name,age):\n",
    "        self.name=name\n",
    "        self.age=age\n",
    "\n",
    "   \n",
    "per=Person(\"vansh\",11)\n",
    "per.greet()\n",
    "Person.greet()\n",
    "Person.hello()\n",
    "per.hello()"
   ]
  },
  {
   "cell_type": "code",
   "execution_count": 18,
   "id": "c8f9d1f2",
   "metadata": {},
   "outputs": [
    {
     "name": "stdout",
     "output_type": "stream",
     "text": [
      "6\n"
     ]
    }
   ],
   "source": [
    "#method overloading --> multiple method with same name\n",
    "#pytho not support explicit method overloading\n",
    "class calc :\n",
    "    def add(self,a,b):\n",
    "        return a+b\n",
    "    def add(self,a,b,c):\n",
    "        return a+b+c\n",
    "    \n",
    "c=calc()\n",
    "# print(c.add(1,2)) not allowed\n",
    "print(c.add(1,2,3))"
   ]
  },
  {
   "cell_type": "code",
   "execution_count": 19,
   "id": "d5ae0a0b",
   "metadata": {},
   "outputs": [
    {
     "name": "stdout",
     "output_type": "stream",
     "text": [
      "3\n",
      "6\n"
     ]
    }
   ],
   "source": [
    "#implicit methodoverloading\n",
    "\n",
    "class calc :\n",
    "   \n",
    "    def add(self,a,b,c=0):\n",
    "        return a+b+c\n",
    "    \n",
    "c=calc()\n",
    "print(c.add(1,2)) \n",
    "print(c.add(1,2,3))"
   ]
  },
  {
   "cell_type": "code",
   "execution_count": 4,
   "id": "f3c985e6",
   "metadata": {},
   "outputs": [
    {
     "name": "stdout",
     "output_type": "stream",
     "text": [
      "5000\n",
      "calculate tax\n"
     ]
    }
   ],
   "source": [
    "#access modifyers -> only 2 types -> public and private\n",
    "class Person:\n",
    "    def __init__(self,name,age,salary): #by default all this are public\n",
    "        self.name=name \n",
    "        self.age=age\n",
    "        self.__salary=salary  # private\n",
    "    \n",
    "    def findAge(self):\n",
    "        return self.age\n",
    "    \n",
    "    def findSalary(self):\n",
    "        print(self.__salary)\n",
    "        self.__calcTax()\n",
    "\n",
    "    def __calcTax(self):\n",
    "        print(\"calculate tax\")\n",
    "\n",
    "\n",
    "per=Person(\"van\",11,5000)\n",
    "# print(per.__salary) not works\n",
    "per.findSalary()\n",
    "# per.__calcTax() not works\n"
   ]
  },
  {
   "cell_type": "code",
   "execution_count": 8,
   "id": "c30396b0",
   "metadata": {},
   "outputs": [
    {
     "name": "stdout",
     "output_type": "stream",
     "text": [
      "5000\n",
      "calculate tax\n"
     ]
    }
   ],
   "source": [
    "print(per._Person__salary)\n",
    "per._Person__calcTax()"
   ]
  },
  {
   "cell_type": "code",
   "execution_count": 9,
   "id": "c2499462",
   "metadata": {},
   "outputs": [],
   "source": [
    "#encaptulation -> hide or make the state/data private\n",
    "#All the fields should be private\n",
    "\n",
    "class Person:\n",
    "    def __init__(self,name,car):\n",
    "        self.__name=name\n",
    "        self.__car=car\n",
    "\n",
    "    #getters and setters\n",
    "    \n",
    "    def getName(self):\n",
    "        return self.__name\n",
    "    \n",
    "    def getCar(self):\n",
    "        return self.__car\n",
    "    \n",
    "    def setName(self,name):\n",
    "        self.__name=name\n",
    "\n",
    "    def setCar(self,car):\n",
    "        self.__car=car"
   ]
  },
  {
   "cell_type": "code",
   "execution_count": 11,
   "id": "4827cb99",
   "metadata": {},
   "outputs": [
    {
     "name": "stdout",
     "output_type": "stream",
     "text": [
      "vans\n",
      "vansh\n"
     ]
    }
   ],
   "source": [
    "per=Person(\"vans\",\"gvagon\")\n",
    "print(per.getName())\n",
    "per.setName(\"vansh\")\n",
    "print(per.getName())"
   ]
  },
  {
   "cell_type": "code",
   "execution_count": 5,
   "id": "2208c557",
   "metadata": {},
   "outputs": [
    {
     "name": "stdout",
     "output_type": "stream",
     "text": [
      "name1\n",
      "animal is eating\n"
     ]
    },
    {
     "data": {
      "text/plain": [
       "'name1'"
      ]
     },
     "execution_count": 5,
     "metadata": {},
     "output_type": "execute_result"
    }
   ],
   "source": [
    "#Inheritance -> all public properties inherited in child\n",
    "class Animal:\n",
    "    def __init__(self,name):\n",
    "        self.name=name\n",
    "    \n",
    "    def eat(self):\n",
    "        print(\"animal is eating\")\n",
    "\n",
    "class Dog(Animal):\n",
    "    def __init__(self,name,type):\n",
    "        Animal.__init__(self,name)\n",
    "        self.type=type\n",
    "\n",
    "    def getName(self):\n",
    "        return self.name\n",
    "\n",
    "dog1=Dog(\"name1\",\"pit bull\")\n",
    "print(dog1.name)\n",
    "dog1.eat()\n",
    "dog1.getName()\n"
   ]
  },
  {
   "cell_type": "code",
   "execution_count": 7,
   "id": "dcbefd93",
   "metadata": {},
   "outputs": [
    {
     "name": "stdout",
     "output_type": "stream",
     "text": [
      "child property 66\n",
      "parent property 90\n",
      "child hello\n",
      "hello parent\n"
     ]
    }
   ],
   "source": [
    "#super keyword -> to access parent class property\n",
    "class parent:\n",
    "    property=90\n",
    "\n",
    "    def greet(self):\n",
    "        print(\"hello parent\")\n",
    "\n",
    "class child(parent):\n",
    "    property=66\n",
    "\n",
    "    def display(self):\n",
    "        print(\"child property\",self.property)\n",
    "        print(\"parent property\",super().property)\n",
    "\n",
    "    def greet(self):\n",
    "        print(\"child hello\")\n",
    "\n",
    "    def callgreet(self):\n",
    "        self.greet()\n",
    "        super().greet()\n",
    "\n",
    "c1=child()\n",
    "c1.display()\n",
    "c1.callgreet()"
   ]
  },
  {
   "cell_type": "code",
   "execution_count": null,
   "id": "9d4bfd98",
   "metadata": {},
   "outputs": [
    {
     "name": "stdout",
     "output_type": "stream",
     "text": [
      "name1\n",
      "animal is eating\n"
     ]
    },
    {
     "data": {
      "text/plain": [
       "'name1'"
      ]
     },
     "execution_count": 9,
     "metadata": {},
     "output_type": "execute_result"
    }
   ],
   "source": [
    "class Animal:\n",
    "    def __init__(self,name):\n",
    "        self.name=name\n",
    "    \n",
    "    def eat(self):\n",
    "        print(\"animal is eating\")\n",
    "\n",
    "class Dog(Animal):\n",
    "    def __init__(self,name,type):\n",
    "        super().__init__(name) #to call parent's constructor\n",
    "        self.type=type\n",
    "\n",
    "    def getName(self):\n",
    "        return self.name\n",
    "\n",
    "dog1=Dog(\"name1\",\"pit bull\")\n",
    "print(dog1.name)\n",
    "dog1.eat()\n",
    "dog1.getName()\n",
    "#above is single inheritance"
   ]
  },
  {
   "cell_type": "code",
   "execution_count": null,
   "id": "dc5bec99",
   "metadata": {},
   "outputs": [],
   "source": [
    "#types of inheritance\n",
    "#multilevel inheritance\n",
    "class Animal:\n",
    "    def __init__(self,name):\n",
    "        self.name=name\n",
    "    \n",
    "    def eat(self):\n",
    "        print(\"animal is eating\")\n",
    "\n",
    "class Dog(Animal):\n",
    "    def __init__(self,name,type):\n",
    "        super().__init__(name) #to call parent's constructor\n",
    "        self.type=type\n",
    "\n",
    "class pet(Dog):\n",
    "    def __init__(self, name, type,housename):\n",
    "        super().__init__(name, type)\n",
    "        self.housename=housename"
   ]
  },
  {
   "cell_type": "code",
   "execution_count": null,
   "id": "d57a31a4",
   "metadata": {},
   "outputs": [],
   "source": [
    "#hierarichal inheritance\n",
    "class Animal:\n",
    "    def __init__(self,name):\n",
    "        self.name=name\n",
    "    \n",
    "    def eat(self):\n",
    "        print(\"animal is eating\")\n",
    "\n",
    "class Dog(Animal):\n",
    "    def __init__(self,name,type):\n",
    "        super().__init__(name) #to call parent's constructor\n",
    "        self.type=type\n",
    "\n",
    "class Cat(Animal):\n",
    "    def __init__(self,name,type):\n",
    "        super().__init__(name)\n",
    "        self.type=type"
   ]
  },
  {
   "cell_type": "code",
   "execution_count": 12,
   "id": "aedd1e87",
   "metadata": {},
   "outputs": [
    {
     "name": "stdout",
     "output_type": "stream",
     "text": [
      "hello from child c\n",
      "hello form A\n",
      "hello from B\n"
     ]
    }
   ],
   "source": [
    "#multiple inheritance\n",
    "class A:\n",
    "    def meth1(self):\n",
    "        print(\"hello form A\")\n",
    "\n",
    "class B:\n",
    "    def meth2(self):\n",
    "        print(\"hello from B\")\n",
    "\n",
    "class C(A,B):\n",
    "    def meth3(self):\n",
    "        print(\"hello from child c\")\n",
    "\n",
    "c1=C()\n",
    "c1.meth3()\n",
    "c1.meth1()\n",
    "c1.meth2()\n"
   ]
  },
  {
   "cell_type": "code",
   "execution_count": 15,
   "id": "706b3961",
   "metadata": {},
   "outputs": [
    {
     "name": "stdout",
     "output_type": "stream",
     "text": [
      "hello from child c\n",
      "(<class '__main__.C'>, <class '__main__.A'>, <class '__main__.B'>, <class 'object'>)\n"
     ]
    }
   ],
   "source": [
    "#problem in multiple inher.\n",
    "\n",
    "class A:\n",
    "    def meth(self):\n",
    "        print(\"hello form A\")\n",
    "\n",
    "class B:\n",
    "    def meth(self):\n",
    "        print(\"hello from B\")\n",
    "\n",
    "class C(A,B):\n",
    "    def meth(self):\n",
    "        print(\"hello from child c\")\n",
    "\n",
    "c1=C()\n",
    "c1.meth()\n",
    "print(C.__mro__)"
   ]
  },
  {
   "cell_type": "code",
   "execution_count": null,
   "id": "b0dabc71",
   "metadata": {},
   "outputs": [],
   "source": []
  }
 ],
 "metadata": {
  "kernelspec": {
   "display_name": "Python 3",
   "language": "python",
   "name": "python3"
  },
  "language_info": {
   "codemirror_mode": {
    "name": "ipython",
    "version": 3
   },
   "file_extension": ".py",
   "mimetype": "text/x-python",
   "name": "python",
   "nbconvert_exporter": "python",
   "pygments_lexer": "ipython3",
   "version": "3.12.1"
  }
 },
 "nbformat": 4,
 "nbformat_minor": 5
}

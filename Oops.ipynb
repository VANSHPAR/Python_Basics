{
 "cells": [
  {
   "cell_type": "code",
   "execution_count": 4,
   "id": "da2e9f46",
   "metadata": {},
   "outputs": [
    {
     "name": "stdout",
     "output_type": "stream",
     "text": [
      "<class '__main__.Person'>\n",
      "vansh 55\n"
     ]
    }
   ],
   "source": [
    "class  Person:\n",
    "    name = \"vansh\"\n",
    "    age = 55\n",
    "\n",
    "\n",
    "\n",
    "obj = Person()\n",
    "print(type(obj))\n",
    "print(obj.name,obj.age)"
   ]
  },
  {
   "cell_type": "code",
   "execution_count": 6,
   "id": "8d9c6e46",
   "metadata": {},
   "outputs": [
    {
     "name": "stdout",
     "output_type": "stream",
     "text": [
      "cricket\n"
     ]
    },
    {
     "ename": "AttributeError",
     "evalue": "'Person' object has no attribute 'hobby'",
     "output_type": "error",
     "traceback": [
      "\u001b[31m---------------------------------------------------------------------------\u001b[39m",
      "\u001b[31mAttributeError\u001b[39m                            Traceback (most recent call last)",
      "\u001b[36mCell\u001b[39m\u001b[36m \u001b[39m\u001b[32mIn[6]\u001b[39m\u001b[32m, line 6\u001b[39m\n\u001b[32m      3\u001b[39m \u001b[38;5;28mprint\u001b[39m(obj.hobby)\n\u001b[32m      5\u001b[39m per=Person()\n\u001b[32m----> \u001b[39m\u001b[32m6\u001b[39m \u001b[38;5;28mprint\u001b[39m(\u001b[43mper\u001b[49m\u001b[43m.\u001b[49m\u001b[43mhobby\u001b[49m)\n",
      "\u001b[31mAttributeError\u001b[39m: 'Person' object has no attribute 'hobby'"
     ]
    }
   ],
   "source": [
    "obj.hobby =\"cricket\"\n",
    "obj.gender=\"male\"\n",
    "print(obj.hobby)\n",
    "\n",
    "per=Person()\n",
    "print(per.hobby)\n",
    "\n"
   ]
  },
  {
   "cell_type": "code",
   "execution_count": 7,
   "id": "3bc33d4d",
   "metadata": {},
   "outputs": [
    {
     "name": "stdout",
     "output_type": "stream",
     "text": [
      "tinu vansh\n"
     ]
    }
   ],
   "source": [
    "class  Person:\n",
    "   #constructor\n",
    "   def __init__(self,name,age):\n",
    "      self.name=name\n",
    "      self.age=age\n",
    "\n",
    "per = Person(\"vansh\",11)\n",
    "per1=Person(\"tinu\",23)\n",
    "\n",
    "print(per1.name,per.name)\n"
   ]
  },
  {
   "cell_type": "code",
   "execution_count": null,
   "id": "e4562eee",
   "metadata": {},
   "outputs": [
    {
     "ename": "TypeError",
     "evalue": "Person.__init__() takes 2 positional arguments but 3 were given",
     "output_type": "error",
     "traceback": [
      "\u001b[31m---------------------------------------------------------------------------\u001b[39m",
      "\u001b[31mTypeError\u001b[39m                                 Traceback (most recent call last)",
      "\u001b[36mCell\u001b[39m\u001b[36m \u001b[39m\u001b[32mIn[6]\u001b[39m\u001b[32m, line 12\u001b[39m\n\u001b[32m      7\u001b[39m    \u001b[38;5;28;01mdef\u001b[39;00m\u001b[38;5;250m \u001b[39m\u001b[34m__init__\u001b[39m(\u001b[38;5;28mself\u001b[39m,name):\n\u001b[32m      8\u001b[39m       \u001b[38;5;28mself\u001b[39m.name=name\n\u001b[32m---> \u001b[39m\u001b[32m12\u001b[39m per1=\u001b[43mPerson\u001b[49m\u001b[43m(\u001b[49m\u001b[33;43m\"\u001b[39;49m\u001b[33;43mvanhs\u001b[39;49m\u001b[33;43m\"\u001b[39;49m\u001b[43m,\u001b[49m\u001b[32;43m11\u001b[39;49m\u001b[43m)\u001b[49m\n\u001b[32m     13\u001b[39m \u001b[38;5;28mprint\u001b[39m(per1.name)\n",
      "\u001b[31mTypeError\u001b[39m: Person.__init__() takes 2 positional arguments but 3 were given"
     ]
    }
   ],
   "source": [
    "class  Person:\n",
    "   #constructor\n",
    "   def __init__(self,name,age):\n",
    "      self.name=name\n",
    "      self.age=age\n",
    "\n",
    "   def __init__(self,name): #this is final constructor above constructor not considerd\n",
    "      self.name=name\n",
    "      \n",
    "\n",
    "\n",
    "per1=Person(\"vanhs\",11)\n",
    "print(per1.name)\n",
    "\n"
   ]
  },
  {
   "cell_type": "code",
   "execution_count": null,
   "id": "b28aad80",
   "metadata": {},
   "outputs": [
    {
     "name": "stdout",
     "output_type": "stream",
     "text": [
      "vahs 55 cricket\n",
      "vanshs 11 cricket\n",
      "vahs 23 movie\n"
     ]
    }
   ],
   "source": [
    "class Person :\n",
    "    def __init__(self,name,age=55,hobby=\"cricket\"):\n",
    "        self.name=name\n",
    "        self.age=age\n",
    "        self.hobby=hobby\n",
    "\n",
    "per1=Person(\"vahs\")\n",
    "per2=Person(\"vanshs\",11)\n",
    "per3=Person(\"vanhs\",23,\"movie\")\n",
    "print(per1.name,per1.age,per1.hobby)\n",
    "print(per2.name,per2.age,per2.hobby)\n",
    "print(per3.name,per3.age,per3.hobby)"
   ]
  },
  {
   "cell_type": "code",
   "execution_count": 9,
   "id": "2cf3cb77",
   "metadata": {},
   "outputs": [
    {
     "name": "stdout",
     "output_type": "stream",
     "text": [
      "vansh india\n",
      "vanshhh india\n",
      "india\n"
     ]
    }
   ],
   "source": [
    "class Person:\n",
    "    coutry=\"india\" # class attribute ->never changes \n",
    "    def __init__(self,name,age):\n",
    "        self.name=name # instance attribute -> chnges for every object\n",
    "        self.age=age\n",
    "\n",
    "per1=Person(\"vansh\",12)\n",
    "per2=Person(\"vanshhh\",73)\n",
    "print(per1.name,per1.coutry)\n",
    "print(per2.name,per2.coutry)\n",
    "print(Person.coutry)\n",
    "        "
   ]
  },
  {
   "cell_type": "code",
   "execution_count": 10,
   "id": "bf6495b3",
   "metadata": {},
   "outputs": [
    {
     "name": "stdout",
     "output_type": "stream",
     "text": [
      "11\n"
     ]
    }
   ],
   "source": [
    "class Person:\n",
    "   \n",
    "    def __init__(self,name,age):\n",
    "        self.name=name\n",
    "        self.age=age\n",
    "\n",
    "    def findAge(self):  #instance method\n",
    "        return self.age\n",
    "    \n",
    "per=Person(\"vansh\",11)\n",
    "print(per.findAge())"
   ]
  },
  {
   "cell_type": "code",
   "execution_count": null,
   "id": "07f30dc5",
   "metadata": {},
   "outputs": [
    {
     "name": "stdout",
     "output_type": "stream",
     "text": [
      "hello from class method india\n",
      "hello from class method india\n"
     ]
    }
   ],
   "source": [
    "#class Method\n",
    "#class method has access to class attributes not accesss to instance attributes\n",
    "class Person:\n",
    "    country=\"india\"\n",
    "\n",
    "    @classmethod   #annotation\n",
    "    def greet(cls):\n",
    "        print(\"hello from class method\",cls.country)\n",
    "\n",
    "    def __init__(self,name,age):\n",
    "        self.name=name\n",
    "        self.age=age\n",
    "\n",
    "   \n",
    "per=Person(\"vansh\",11)\n",
    "per.greet()\n",
    "Person.greet()"
   ]
  },
  {
   "cell_type": "code",
   "execution_count": 16,
   "id": "b13b4851",
   "metadata": {},
   "outputs": [
    {
     "name": "stdout",
     "output_type": "stream",
     "text": [
      "hello from class method india\n",
      "hello from class method india\n",
      "hello\n",
      "hello\n"
     ]
    }
   ],
   "source": [
    "#static method\n",
    "#it not has access to class attributes as well as not accesss to instance attributes\n",
    "class Person:\n",
    "    country=\"india\"\n",
    "\n",
    "    @classmethod   #annotation\n",
    "    def greet(cls):\n",
    "        print(\"hello from class method\",cls.country)\n",
    "\n",
    "    @staticmethod\n",
    "    def hello():\n",
    "        print(\"hello\")\n",
    "\n",
    "    def __init__(self,name,age):\n",
    "        self.name=name\n",
    "        self.age=age\n",
    "\n",
    "   \n",
    "per=Person(\"vansh\",11)\n",
    "per.greet()\n",
    "Person.greet()\n",
    "Person.hello()\n",
    "per.hello()"
   ]
  },
  {
   "cell_type": "code",
   "execution_count": 18,
   "id": "c8f9d1f2",
   "metadata": {},
   "outputs": [
    {
     "name": "stdout",
     "output_type": "stream",
     "text": [
      "6\n"
     ]
    }
   ],
   "source": [
    "#method overloading --> multiple method with same name\n",
    "#pytho not support explicit method overloading\n",
    "class calc :\n",
    "    def add(self,a,b):\n",
    "        return a+b\n",
    "    def add(self,a,b,c):\n",
    "        return a+b+c\n",
    "    \n",
    "c=calc()\n",
    "# print(c.add(1,2)) not allowed\n",
    "print(c.add(1,2,3))"
   ]
  },
  {
   "cell_type": "code",
   "execution_count": 19,
   "id": "d5ae0a0b",
   "metadata": {},
   "outputs": [
    {
     "name": "stdout",
     "output_type": "stream",
     "text": [
      "3\n",
      "6\n"
     ]
    }
   ],
   "source": [
    "#implicit methodoverloading\n",
    "\n",
    "class calc :\n",
    "   \n",
    "    def add(self,a,b,c=0):\n",
    "        return a+b+c\n",
    "    \n",
    "c=calc()\n",
    "print(c.add(1,2)) \n",
    "print(c.add(1,2,3))"
   ]
  }
 ],
 "metadata": {
  "kernelspec": {
   "display_name": "Python 3",
   "language": "python",
   "name": "python3"
  },
  "language_info": {
   "codemirror_mode": {
    "name": "ipython",
    "version": 3
   },
   "file_extension": ".py",
   "mimetype": "text/x-python",
   "name": "python",
   "nbconvert_exporter": "python",
   "pygments_lexer": "ipython3",
   "version": "3.12.1"
  }
 },
 "nbformat": 4,
 "nbformat_minor": 5
}

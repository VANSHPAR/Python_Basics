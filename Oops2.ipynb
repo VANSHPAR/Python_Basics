{
 "cells": [
  {
   "cell_type": "code",
   "execution_count": 1,
   "id": "06125711",
   "metadata": {},
   "outputs": [
    {
     "name": "stdout",
     "output_type": "stream",
     "text": [
      "eating\n"
     ]
    }
   ],
   "source": [
    "#Abstraction -> abstract class\n",
    "#can't make object of it 2. hase atleast one abstract method\n",
    "class Animal:\n",
    "    def eat(self):\n",
    "        print(\"eating\")\n",
    "\n",
    "a=Animal()\n",
    "a.eat()"
   ]
  },
  {
   "cell_type": "code",
   "execution_count": 4,
   "id": "3f9b0ce7",
   "metadata": {},
   "outputs": [],
   "source": [
    "from abc import ABC,abstractmethod\n",
    "\n",
    "class Animal(ABC):\n",
    "    @abstractmethod\n",
    "    def eat(self):\n",
    "       print(\"eating\")\n",
    "\n",
    "# a=Animal() can't make object"
   ]
  },
  {
   "cell_type": "code",
   "execution_count": 7,
   "id": "30910bd1",
   "metadata": {},
   "outputs": [
    {
     "name": "stdout",
     "output_type": "stream",
     "text": [
      "dog is eating\n"
     ]
    }
   ],
   "source": [
    "class Dog(Animal):\n",
    "    def sleep(self):\n",
    "        print(\"dog is sleeping\")\n",
    "\n",
    "    def eat(self):\n",
    "        print(\"dog is eating\") # to make obj. of dog we must implement parent method\n",
    "\n",
    "d=Dog()\n",
    "d.eat()"
   ]
  },
  {
   "cell_type": "code",
   "execution_count": null,
   "id": "3dd2792a",
   "metadata": {},
   "outputs": [
    {
     "name": "stdout",
     "output_type": "stream",
     "text": [
      "cat is eating\n",
      "dog is eating\n",
      "animal is eating\n"
     ]
    }
   ],
   "source": [
    "#polymorphism\n",
    "#polymorphism using inheritance\n",
    "class Animal:\n",
    "    def eat(self):\n",
    "        print(\"animal is eating\")\n",
    "\n",
    "class Dog(Animal):\n",
    "    def eat(self):\n",
    "        print(\"dog is eating\")\n",
    "\n",
    "class Cat(Animal):\n",
    "    def eat(self):\n",
    "        print(\"cat is eating\")\n",
    "\n",
    "c=Cat()\n",
    "d=Dog()\n",
    "a=Animal()\n",
    "\n",
    "c.eat()\n",
    "d.eat()\n",
    "a.eat()"
   ]
  },
  {
   "cell_type": "code",
   "execution_count": null,
   "id": "20fb8f04",
   "metadata": {},
   "outputs": [
    {
     "name": "stdout",
     "output_type": "stream",
     "text": [
      "parot is flying\n",
      "crow is flying\n"
     ]
    }
   ],
   "source": [
    "#polymorphism without inheritance\n",
    "class Birdfly:\n",
    "    def flybird(self,bird):\n",
    "        bird.fly()\n",
    "\n",
    "class parot:\n",
    "    def fly(self):\n",
    "        print(\"parot is flying\")\n",
    "\n",
    "class crow:\n",
    "    def fly(self):\n",
    "        print(\"crow is flying\")\n",
    "\n",
    "p=parot()\n",
    "c=crow()\n",
    "b=Birdfly()\n",
    "b.flybird(p)\n",
    "b.flybird(c)\n"
   ]
  },
  {
   "cell_type": "code",
   "execution_count": 8,
   "id": "084b6ca0",
   "metadata": {},
   "outputs": [
    {
     "name": "stdout",
     "output_type": "stream",
     "text": [
      "bmw\n",
      "blue\n"
     ]
    }
   ],
   "source": [
    "#Aggregation -> to  represent has A relationship\n",
    "class Car:\n",
    "    def __init__(self,brand,color):\n",
    "         self.brand=brand\n",
    "         self.color=color\n",
    "    \n",
    "class Person:\n",
    "     def __init__(self,name,car):\n",
    "         self.name=name\n",
    "         self.car=car \n",
    "         \n",
    "\n",
    "c=Car(\"bmw\",\"blue\")\n",
    "per=Person(\"vansh\",c)\n",
    "print(per.car.brand)\n",
    "print(per.car.color)"
   ]
  },
  {
   "cell_type": "code",
   "execution_count": 9,
   "id": "f4f4ca0a",
   "metadata": {},
   "outputs": [
    {
     "name": "stdout",
     "output_type": "stream",
     "text": [
      "engine details\n",
      "tyres of car\n",
      "doors of car\n"
     ]
    }
   ],
   "source": [
    "#Composition\n",
    "class Engine:\n",
    "    def enginedetail(self):\n",
    "       print(\"engine details\")\n",
    "\n",
    "class Tyres:\n",
    "    def tyredetail (self):\n",
    "        print(\"tyres of car\")\n",
    "\n",
    "class Doors:\n",
    "    def doordetail (self):\n",
    "        print(\"doors of car\")\n",
    "\n",
    "class Car:\n",
    "    def __init__(self):\n",
    "        self.engine=Engine()\n",
    "        self.tyres=Tyres()\n",
    "        self.doors=Doors()\n",
    "\n",
    "    def showdetails(self):\n",
    "        self.engine.enginedetail()\n",
    "        self.tyres.tyredetail()\n",
    "        self.doors.doordetail()\n",
    "\n",
    "c=Car()\n",
    "c.showdetails()      "
   ]
  }
 ],
 "metadata": {
  "kernelspec": {
   "display_name": "Python 3",
   "language": "python",
   "name": "python3"
  },
  "language_info": {
   "codemirror_mode": {
    "name": "ipython",
    "version": 3
   },
   "file_extension": ".py",
   "mimetype": "text/x-python",
   "name": "python",
   "nbconvert_exporter": "python",
   "pygments_lexer": "ipython3",
   "version": "3.12.1"
  }
 },
 "nbformat": 4,
 "nbformat_minor": 5
}

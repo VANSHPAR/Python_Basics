{
 "cells": [
  {
   "cell_type": "code",
   "execution_count": 1,
   "id": "06125711",
   "metadata": {},
   "outputs": [
    {
     "name": "stdout",
     "output_type": "stream",
     "text": [
      "eating\n"
     ]
    }
   ],
   "source": [
    "#Abstraction -> abstract class\n",
    "#can't make object of it 2. hase atleast one abstract method\n",
    "class Animal:\n",
    "    def eat(self):\n",
    "        print(\"eating\")\n",
    "\n",
    "a=Animal()\n",
    "a.eat()"
   ]
  },
  {
   "cell_type": "code",
   "execution_count": 4,
   "id": "3f9b0ce7",
   "metadata": {},
   "outputs": [],
   "source": [
    "from abc import ABC,abstractmethod\n",
    "\n",
    "class Animal(ABC):\n",
    "    @abstractmethod\n",
    "    def eat(self):\n",
    "       print(\"eating\")\n",
    "\n",
    "# a=Animal() can't make object"
   ]
  },
  {
   "cell_type": "code",
   "execution_count": 7,
   "id": "30910bd1",
   "metadata": {},
   "outputs": [
    {
     "name": "stdout",
     "output_type": "stream",
     "text": [
      "dog is eating\n"
     ]
    }
   ],
   "source": [
    "class Dog(Animal):\n",
    "    def sleep(self):\n",
    "        print(\"dog is sleeping\")\n",
    "\n",
    "    def eat(self):\n",
    "        print(\"dog is eating\") # to make obj. of dog we must implement parent method\n",
    "\n",
    "d=Dog()\n",
    "d.eat()"
   ]
  }
 ],
 "metadata": {
  "kernelspec": {
   "display_name": "Python 3",
   "language": "python",
   "name": "python3"
  },
  "language_info": {
   "codemirror_mode": {
    "name": "ipython",
    "version": 3
   },
   "file_extension": ".py",
   "mimetype": "text/x-python",
   "name": "python",
   "nbconvert_exporter": "python",
   "pygments_lexer": "ipython3",
   "version": "3.12.1"
  }
 },
 "nbformat": 4,
 "nbformat_minor": 5
}

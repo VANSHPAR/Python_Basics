{
 "cells": [
  {
   "cell_type": "code",
   "execution_count": 4,
   "id": "d8ef6d6a",
   "metadata": {},
   "outputs": [
    {
     "name": "stdout",
     "output_type": "stream",
     "text": [
      "12\n"
     ]
    }
   ],
   "source": [
    "class Num:\n",
    "    def __init__(self,n):\n",
    "        self.n=n\n",
    "\n",
    "    def __add__(self,U):\n",
    "        return self.n+U.n\n",
    "\n",
    "num1=Num(5)\n",
    "num2=Num(7)\n",
    "res=num1+num2\n",
    "print(res)"
   ]
  },
  {
   "cell_type": "code",
   "execution_count": 8,
   "id": "d677f05f",
   "metadata": {},
   "outputs": [
    {
     "name": "stdout",
     "output_type": "stream",
     "text": [
      "(5, 13)\n"
     ]
    }
   ],
   "source": [
    "class ComplexNum:\n",
    "    def __init__(self,x,y):\n",
    "        self.x=x\n",
    "        self.y=y\n",
    "\n",
    "    def __add__(self,C):\n",
    "        return self.x+C.x , self.y + C.y\n",
    "    \n",
    "c1=ComplexNum(2,5)\n",
    "c2=ComplexNum(3,8)\n",
    "res=c1+c2\n",
    "print(res)   "
   ]
  },
  {
   "cell_type": "code",
   "execution_count": 7,
   "id": "37e5bd10",
   "metadata": {},
   "outputs": [
    {
     "name": "stdout",
     "output_type": "stream",
     "text": [
      "(6, 40)\n"
     ]
    }
   ],
   "source": [
    "class ComplexNum:\n",
    "    def __init__(self,x,y):\n",
    "        self.x=x\n",
    "        self.y=y\n",
    "\n",
    "    def __mul__(self,C):\n",
    "        return self.x*C.x , self.y * C.y\n",
    "    \n",
    "c1=ComplexNum(2,5)\n",
    "c2=ComplexNum(3,8)\n",
    "res=c1*c2\n",
    "print(res)   "
   ]
  }
 ],
 "metadata": {
  "kernelspec": {
   "display_name": "Python 3",
   "language": "python",
   "name": "python3"
  },
  "language_info": {
   "codemirror_mode": {
    "name": "ipython",
    "version": 3
   },
   "file_extension": ".py",
   "mimetype": "text/x-python",
   "name": "python",
   "nbconvert_exporter": "python",
   "pygments_lexer": "ipython3",
   "version": "3.12.1"
  }
 },
 "nbformat": 4,
 "nbformat_minor": 5
}

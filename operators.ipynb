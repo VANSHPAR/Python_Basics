{
 "cells": [
  {
   "cell_type": "code",
   "execution_count": 1,
   "id": "1bed4e4d",
   "metadata": {},
   "outputs": [
    {
     "name": "stdout",
     "output_type": "stream",
     "text": [
      "7.666666666666667\n",
      "7\n"
     ]
    }
   ],
   "source": [
    "print(23/3)\n",
    "print(23//3)"
   ]
  },
  {
   "cell_type": "code",
   "execution_count": null,
   "id": "4be60958",
   "metadata": {},
   "outputs": [
    {
     "name": "stdout",
     "output_type": "stream",
     "text": [
      "81\n"
     ]
    }
   ],
   "source": [
    "print(3**4) #3**4 means 3 power 4"
   ]
  },
  {
   "cell_type": "code",
   "execution_count": 4,
   "id": "7f6b9e85",
   "metadata": {},
   "outputs": [
    {
     "name": "stdout",
     "output_type": "stream",
     "text": [
      "inf\n",
      "-inf\n"
     ]
    }
   ],
   "source": [
    "pos_inf=float(\"inf\")\n",
    "print(pos_inf)\n",
    "neg_inf=float(\"-inf\")\n",
    "print(neg_inf)"
   ]
  },
  {
   "cell_type": "code",
   "execution_count": 5,
   "id": "d603d224",
   "metadata": {},
   "outputs": [
    {
     "name": "stdout",
     "output_type": "stream",
     "text": [
      "nan\n"
     ]
    }
   ],
   "source": [
    "nan=float(\"nan\")\n",
    "print(nan)"
   ]
  },
  {
   "cell_type": "code",
   "execution_count": 1,
   "id": "2f8e3464",
   "metadata": {},
   "outputs": [
    {
     "name": "stdout",
     "output_type": "stream",
     "text": [
      "True\n"
     ]
    }
   ],
   "source": [
    "#identity Operator\n",
    "#that checks both varaiables have same adrress or not\n",
    "x=5\n",
    "y=5\n",
    "print(x is y)\n"
   ]
  },
  {
   "cell_type": "code",
   "execution_count": 2,
   "id": "036f86bb",
   "metadata": {},
   "outputs": [
    {
     "name": "stdout",
     "output_type": "stream",
     "text": [
      "False\n"
     ]
    }
   ],
   "source": [
    "arr1=[1,2,3]\n",
    "arr2=[1,2,3]\n",
    "print(arr1 is arr2)"
   ]
  },
  {
   "cell_type": "code",
   "execution_count": 3,
   "id": "569c826f",
   "metadata": {},
   "outputs": [
    {
     "name": "stdout",
     "output_type": "stream",
     "text": [
      "True\n"
     ]
    }
   ],
   "source": [
    "x=7\n",
    "y=8\n",
    "print(x is not y)"
   ]
  },
  {
   "cell_type": "code",
   "execution_count": 7,
   "id": "c8fe8f03",
   "metadata": {},
   "outputs": [
    {
     "name": "stdout",
     "output_type": "stream",
     "text": [
      "True\n",
      "False\n",
      "False\n"
     ]
    }
   ],
   "source": [
    "#Membership operator\n",
    "#it gives given element that present in given collection of elements or not\n",
    "my_list=[1,2,3,4]\n",
    "print( 4 in my_list)\n",
    "print( 5 in my_list)\n",
    "print( 4 not in my_list)"
   ]
  }
 ],
 "metadata": {
  "kernelspec": {
   "display_name": "Python 3",
   "language": "python",
   "name": "python3"
  },
  "language_info": {
   "codemirror_mode": {
    "name": "ipython",
    "version": 3
   },
   "file_extension": ".py",
   "mimetype": "text/x-python",
   "name": "python",
   "nbconvert_exporter": "python",
   "pygments_lexer": "ipython3",
   "version": "3.12.1"
  }
 },
 "nbformat": 4,
 "nbformat_minor": 5
}

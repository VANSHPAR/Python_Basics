{
 "cells": [
  {
   "cell_type": "code",
   "execution_count": 1,
   "id": "5a9a362c",
   "metadata": {},
   "outputs": [],
   "source": [
    "def hello():\n",
    "    print(\"Hello World\")"
   ]
  },
  {
   "cell_type": "code",
   "execution_count": 2,
   "id": "ff263c36",
   "metadata": {},
   "outputs": [
    {
     "name": "stdout",
     "output_type": "stream",
     "text": [
      "Hello World\n"
     ]
    }
   ],
   "source": [
    "hello()"
   ]
  },
  {
   "cell_type": "code",
   "execution_count": 3,
   "id": "20478336",
   "metadata": {},
   "outputs": [],
   "source": [
    "def add(a,b):\n",
    "    return a+b\n",
    "  "
   ]
  },
  {
   "cell_type": "code",
   "execution_count": 4,
   "id": "be67dd44",
   "metadata": {},
   "outputs": [
    {
     "name": "stdout",
     "output_type": "stream",
     "text": [
      "1000\n"
     ]
    }
   ],
   "source": [
    "print(add(500,500))"
   ]
  },
  {
   "cell_type": "code",
   "execution_count": 5,
   "id": "0c29be2d",
   "metadata": {},
   "outputs": [
    {
     "name": "stdout",
     "output_type": "stream",
     "text": [
      "This is world\n"
     ]
    }
   ],
   "source": [
    "def greet(name,mes=\"world\"):\n",
    "    print(name,mes)\n",
    "greet(\"This is\")"
   ]
  },
  {
   "cell_type": "code",
   "execution_count": 6,
   "id": "332f42ee",
   "metadata": {},
   "outputs": [],
   "source": [
    "def add_numbers(*args):\n",
    "    print(type(args))\n",
    "    print(args)\n",
    "\n",
    "    sum=0\n",
    "    for ele in args :\n",
    "        sum+=ele\n",
    "    return sum"
   ]
  },
  {
   "cell_type": "code",
   "execution_count": 7,
   "id": "ee46ef85",
   "metadata": {},
   "outputs": [
    {
     "name": "stdout",
     "output_type": "stream",
     "text": [
      "<class 'tuple'>\n",
      "(5, 5, 5, 5, 5)\n"
     ]
    },
    {
     "data": {
      "text/plain": [
       "25"
      ]
     },
     "execution_count": 7,
     "metadata": {},
     "output_type": "execute_result"
    }
   ],
   "source": [
    "add_numbers(5,5,5,5,5)"
   ]
  },
  {
   "cell_type": "code",
   "execution_count": 9,
   "id": "d1e19e35",
   "metadata": {},
   "outputs": [],
   "source": [
    "def fn(a,b,*args):\n",
    "    print(a,b)\n",
    "    print(args)"
   ]
  },
  {
   "cell_type": "code",
   "execution_count": 10,
   "id": "fe6ca399",
   "metadata": {},
   "outputs": [
    {
     "name": "stdout",
     "output_type": "stream",
     "text": [
      "5 6\n",
      "(3, 2, 1)\n"
     ]
    }
   ],
   "source": [
    "fn(5,6,3,2,1)"
   ]
  },
  {
   "cell_type": "code",
   "execution_count": 13,
   "id": "ad436a0e",
   "metadata": {},
   "outputs": [],
   "source": [
    "def fun(*args,a,b):\n",
    "    print(a,b)\n",
    "    print(args)"
   ]
  },
  {
   "cell_type": "code",
   "execution_count": 17,
   "id": "74e08812",
   "metadata": {},
   "outputs": [
    {
     "name": "stdout",
     "output_type": "stream",
     "text": [
      "8 9\n",
      "(5, 6, 7)\n"
     ]
    }
   ],
   "source": [
    "fun(5,6,7,a=8,b=9)"
   ]
  },
  {
   "cell_type": "code",
   "execution_count": 24,
   "id": "87391364",
   "metadata": {},
   "outputs": [],
   "source": [
    "def display(**args):\n",
    "    print(type(args))\n",
    "    print(args)\n",
    "\n",
    "    for key,val in args.items() :\n",
    "        print(key,\" -> \",val)\n"
   ]
  },
  {
   "cell_type": "code",
   "execution_count": 25,
   "id": "1c2f183a",
   "metadata": {},
   "outputs": [
    {
     "name": "stdout",
     "output_type": "stream",
     "text": [
      "<class 'dict'>\n",
      "{'name': 'vansh', 'age': '20', 'city': 'vadodara'}\n",
      "name  ->  vansh\n",
      "age  ->  20\n",
      "city  ->  vadodara\n"
     ]
    }
   ],
   "source": [
    "display(name=\"vansh\",age=\"20\",city=\"vadodara\")"
   ]
  },
  {
   "cell_type": "code",
   "execution_count": 27,
   "id": "84390b4c",
   "metadata": {},
   "outputs": [],
   "source": [
    "def fn1(a,b,*args,**args0):\n",
    "    print(a,b)\n",
    "    print(args)\n",
    "    print(args0)"
   ]
  },
  {
   "cell_type": "code",
   "execution_count": 28,
   "id": "63d912e7",
   "metadata": {},
   "outputs": [
    {
     "name": "stdout",
     "output_type": "stream",
     "text": [
      "5 6\n",
      "(3, 2, 1)\n",
      "{'name': 'van', 'country': 'india', 'rank': 2}\n"
     ]
    }
   ],
   "source": [
    "fn1(5,6,3,2,1,name=\"van\",country=\"india\",rank=2)"
   ]
  },
  {
   "cell_type": "code",
   "execution_count": null,
   "id": "be5f2611",
   "metadata": {},
   "outputs": [],
   "source": [
    "def sum(a : int,b : int)->int:\n",
    "    return a+b"
   ]
  },
  {
   "cell_type": "code",
   "execution_count": 34,
   "id": "57d28a26",
   "metadata": {},
   "outputs": [
    {
     "name": "stdout",
     "output_type": "stream",
     "text": [
      "12\n"
     ]
    }
   ],
   "source": [
    "print(sum(5,7))"
   ]
  },
  {
   "cell_type": "code",
   "execution_count": 42,
   "id": "2744cb10",
   "metadata": {},
   "outputs": [],
   "source": [
    "def outer():\n",
    "    print(\"outer\")\n",
    "    def inner():\n",
    "        print(\"inner\")\n",
    "\n",
    "    return inner"
   ]
  },
  {
   "cell_type": "code",
   "execution_count": 44,
   "id": "1e6a03f7",
   "metadata": {},
   "outputs": [
    {
     "name": "stdout",
     "output_type": "stream",
     "text": [
      "outer\n",
      "inner\n",
      "outer\n",
      "inner\n"
     ]
    }
   ],
   "source": [
    "fun2=outer()\n",
    "fun2()\n",
    "outer()()\n"
   ]
  },
  {
   "cell_type": "code",
   "execution_count": 1,
   "id": "b857ad23",
   "metadata": {},
   "outputs": [
    {
     "name": "stdout",
     "output_type": "stream",
     "text": [
      "6\n",
      "original  5\n"
     ]
    }
   ],
   "source": [
    "#pass by value\n",
    "num=5\n",
    "def modify(num) :\n",
    "    num+=1\n",
    "    print(num)\n",
    "\n",
    "modify(num)\n",
    "print(\"original \",num)"
   ]
  },
  {
   "cell_type": "code",
   "execution_count": null,
   "id": "5b1d955e",
   "metadata": {},
   "outputs": [],
   "source": [
    "#immutable datatypes : numbers,strings,tuple -- passed by value"
   ]
  },
  {
   "cell_type": "code",
   "execution_count": 2,
   "id": "101f9e03",
   "metadata": {},
   "outputs": [
    {
     "name": "stdout",
     "output_type": "stream",
     "text": [
      "before [1, 12, 3, 5, 6]\n",
      "[1, 12, 3, 5, 6, 22]\n",
      "after [1, 12, 3, 5, 6, 22]\n"
     ]
    }
   ],
   "source": [
    "#passed by reference : mutable datatypes : list,dictionary\n",
    "mylist=[1,12,3,5,6]\n",
    "\n",
    "def modify(li):\n",
    "    li.append(22)\n",
    "    print(li)\n",
    "\n",
    "print(\"before\",mylist)\n",
    "modify(mylist)\n",
    "print(\"after\",mylist)"
   ]
  },
  {
   "cell_type": "code",
   "execution_count": 3,
   "id": "55868c7a",
   "metadata": {},
   "outputs": [
    {
     "data": {
      "text/plain": [
       "11"
      ]
     },
     "execution_count": 3,
     "metadata": {},
     "output_type": "execute_result"
    }
   ],
   "source": [
    "#lAMDA FUNCTION --> special type of func. (anonyms func.)\n",
    "func = lambda x : x+10\n",
    "\n",
    "func(1)"
   ]
  },
  {
   "cell_type": "code",
   "execution_count": 5,
   "id": "4c699f21",
   "metadata": {},
   "outputs": [
    {
     "name": "stdout",
     "output_type": "stream",
     "text": [
      "65\n"
     ]
    }
   ],
   "source": [
    "func1=lambda a,b : a+b\n",
    "print(func1(5,60))"
   ]
  },
  {
   "cell_type": "code",
   "execution_count": 7,
   "id": "a207bbb3",
   "metadata": {},
   "outputs": [
    {
     "name": "stdout",
     "output_type": "stream",
     "text": [
      "hello\n"
     ]
    }
   ],
   "source": [
    "def myfun() : \n",
    "    return lambda msg : print(msg)\n",
    "\n",
    "myfun()(\"hello\")"
   ]
  }
 ],
 "metadata": {
  "kernelspec": {
   "display_name": "Python 3",
   "language": "python",
   "name": "python3"
  },
  "language_info": {
   "codemirror_mode": {
    "name": "ipython",
    "version": 3
   },
   "file_extension": ".py",
   "mimetype": "text/x-python",
   "name": "python",
   "nbconvert_exporter": "python",
   "pygments_lexer": "ipython3",
   "version": "3.12.1"
  }
 },
 "nbformat": 4,
 "nbformat_minor": 5
}

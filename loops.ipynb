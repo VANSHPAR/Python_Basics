{
 "cells": [
  {
   "cell_type": "code",
   "execution_count": 1,
   "id": "4b716a01",
   "metadata": {},
   "outputs": [
    {
     "name": "stdout",
     "output_type": "stream",
     "text": [
      "5\n",
      "8\n",
      "6\n",
      "2\n",
      "three\n",
      "two\n"
     ]
    }
   ],
   "source": [
    "sequence=[5,8,6,2,\"three\",\"two\"]\n",
    "for ele in sequence :\n",
    "    print(ele)"
   ]
  },
  {
   "cell_type": "code",
   "execution_count": 2,
   "id": "589fc89a",
   "metadata": {},
   "outputs": [
    {
     "name": "stdout",
     "output_type": "stream",
     "text": [
      "v a n s h   p a r m a r "
     ]
    }
   ],
   "source": [
    "name=\"vansh parmar\"\n",
    "for ele in name:\n",
    "    print(ele,end=\" \")"
   ]
  },
  {
   "cell_type": "code",
   "execution_count": 4,
   "id": "e6f6807c",
   "metadata": {},
   "outputs": [
    {
     "name": "stdout",
     "output_type": "stream",
     "text": [
      "0\n",
      "1\n",
      "2\n",
      "3\n",
      "4\n",
      "5\n",
      "6\n",
      "7\n",
      "8\n",
      "9\n",
      "10\n",
      "11\n",
      "12\n",
      "13\n",
      "14\n",
      "15\n",
      "16\n",
      "17\n",
      "18\n",
      "19\n",
      "20\n",
      "21\n",
      "22\n",
      "23\n",
      "24\n"
     ]
    }
   ],
   "source": [
    "\n",
    "for ele in range(25) :\n",
    "    print(ele)"
   ]
  },
  {
   "cell_type": "code",
   "execution_count": 5,
   "id": "91c90f95",
   "metadata": {},
   "outputs": [
    {
     "name": "stdout",
     "output_type": "stream",
     "text": [
      "2\n",
      "3\n",
      "4\n",
      "5\n",
      "6\n",
      "7\n"
     ]
    }
   ],
   "source": [
    "for ele in range(2,8) :\n",
    "    print(ele)"
   ]
  },
  {
   "cell_type": "code",
   "execution_count": 6,
   "id": "d8f4eddc",
   "metadata": {},
   "outputs": [
    {
     "name": "stdout",
     "output_type": "stream",
     "text": [
      "2\n",
      "5\n",
      "8\n",
      "11\n"
     ]
    }
   ],
   "source": [
    "for ele in range(2,12,3):\n",
    "    print(ele)"
   ]
  },
  {
   "cell_type": "code",
   "execution_count": 7,
   "id": "a32a13dd",
   "metadata": {},
   "outputs": [
    {
     "name": "stdout",
     "output_type": "stream",
     "text": [
      "10\n",
      "9\n",
      "8\n",
      "7\n",
      "6\n",
      "5\n",
      "4\n",
      "3\n",
      "2\n",
      "1\n"
     ]
    }
   ],
   "source": [
    "for ele in range(10,0,-1):\n",
    "    print(ele)"
   ]
  },
  {
   "cell_type": "code",
   "execution_count": 9,
   "id": "eb560ad5",
   "metadata": {},
   "outputs": [
    {
     "name": "stdout",
     "output_type": "stream",
     "text": [
      "1\n",
      "2\n",
      "3\n"
     ]
    }
   ],
   "source": [
    "for ele in range(1,10):\n",
    "    if(ele%4==0):\n",
    "        break\n",
    "    else:\n",
    "        print(ele)"
   ]
  },
  {
   "cell_type": "code",
   "execution_count": 11,
   "id": "e8906de6",
   "metadata": {},
   "outputs": [
    {
     "name": "stdout",
     "output_type": "stream",
     "text": [
      "1\n",
      "2\n",
      "3\n",
      "5\n",
      "6\n",
      "7\n",
      "9\n"
     ]
    }
   ],
   "source": [
    "for ele in range(10):\n",
    "    if(ele%4==0):\n",
    "        continue\n",
    "    else:\n",
    "        print(ele)"
   ]
  },
  {
   "cell_type": "code",
   "execution_count": 12,
   "id": "83b4fb9e",
   "metadata": {},
   "outputs": [
    {
     "name": "stdout",
     "output_type": "stream",
     "text": [
      "10\n",
      "9\n",
      "8\n",
      "7\n",
      "6\n",
      "5\n",
      "4\n",
      "3\n",
      "2\n",
      "1\n"
     ]
    }
   ],
   "source": [
    "num=10\n",
    "while num>0:\n",
    "    print(num)\n",
    "    num-=1"
   ]
  }
 ],
 "metadata": {
  "kernelspec": {
   "display_name": "Python 3",
   "language": "python",
   "name": "python3"
  },
  "language_info": {
   "codemirror_mode": {
    "name": "ipython",
    "version": 3
   },
   "file_extension": ".py",
   "mimetype": "text/x-python",
   "name": "python",
   "nbconvert_exporter": "python",
   "pygments_lexer": "ipython3",
   "version": "3.12.1"
  }
 },
 "nbformat": 4,
 "nbformat_minor": 5
}

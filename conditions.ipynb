{
 "cells": [
  {
   "cell_type": "code",
   "execution_count": 5,
   "id": "24cc76cd",
   "metadata": {},
   "outputs": [
    {
     "name": "stdout",
     "output_type": "stream",
     "text": [
      "condn is same\n"
     ]
    }
   ],
   "source": [
    "x=int(input(\"Enter a number\"))\n",
    "if x>5 : \n",
    "    print(\"condn is true\")\n",
    "\n",
    "elif x==5 : \n",
    "    print(\"condn is same\")\n",
    "else :\n",
    "    print(\"condn is false\")"
   ]
  },
  {
   "cell_type": "code",
   "execution_count": 6,
   "id": "4b9c5829",
   "metadata": {},
   "outputs": [
    {
     "name": "stdout",
     "output_type": "stream",
     "text": [
      "ele is true\n"
     ]
    }
   ],
   "source": [
    "if [5] :\n",
    "    print(\"ele is true\")"
   ]
  },
  {
   "cell_type": "code",
   "execution_count": 7,
   "id": "631795b6",
   "metadata": {},
   "outputs": [
    {
     "name": "stdout",
     "output_type": "stream",
     "text": [
      "ele is false\n"
     ]
    }
   ],
   "source": [
    "if 0 :\n",
    "    print(\"ele is true\")\n",
    "else :\n",
    "    print(\"ele is false\")"
   ]
  },
  {
   "cell_type": "code",
   "execution_count": null,
   "id": "3c164728",
   "metadata": {},
   "outputs": [
    {
     "name": "stdout",
     "output_type": "stream",
     "text": [
      "ele is true\n"
     ]
    }
   ],
   "source": [
    "if \"\" :\n",
    "    print(\"ele is true\")\n",
    "else :\n",
    "    print(\"ele is false\")"
   ]
  },
  {
   "cell_type": "code",
   "execution_count": 10,
   "id": "dcc095cc",
   "metadata": {},
   "outputs": [
    {
     "name": "stdout",
     "output_type": "stream",
     "text": [
      "ele is false\n"
     ]
    }
   ],
   "source": [
    "if [] :\n",
    "    print(\"ele is true\")\n",
    "else :\n",
    "    print(\"ele is false\")"
   ]
  },
  {
   "cell_type": "code",
   "execution_count": 15,
   "id": "d607f288",
   "metadata": {},
   "outputs": [
    {
     "name": "stdout",
     "output_type": "stream",
     "text": [
      "negative\n"
     ]
    }
   ],
   "source": [
    "#Ternary operator\n",
    "num = -100\n",
    "result= \"positive\" if num>=0 else \"negative\"\n",
    "print(result)\n"
   ]
  },
  {
   "cell_type": "code",
   "execution_count": 17,
   "id": "bea79da2",
   "metadata": {},
   "outputs": [
    {
     "name": "stdout",
     "output_type": "stream",
     "text": [
      "invalid\n"
     ]
    }
   ],
   "source": [
    "# match and case simillar to switch\n",
    "day=int(input(\"Enter number\"))\n",
    "match day : \n",
    "    case 1:\n",
    "        print(\"Monday\")\n",
    "    case 2:\n",
    "        print(\"Tuesday\")\n",
    "    case 3:\n",
    "        print(\"Wednesday\")\n",
    "    case 4:\n",
    "        print(\"Thursday\")\n",
    "    case 5:\n",
    "        print(\"Friday\")\n",
    "    case 6:\n",
    "        print(\"Saturday\")\n",
    "    case 7:\n",
    "        print(\"Sunday\")\n",
    "    case _ :\n",
    "        print(\"invalid\")"
   ]
  }
 ],
 "metadata": {
  "kernelspec": {
   "display_name": "Python 3",
   "language": "python",
   "name": "python3"
  },
  "language_info": {
   "codemirror_mode": {
    "name": "ipython",
    "version": 3
   },
   "file_extension": ".py",
   "mimetype": "text/x-python",
   "name": "python",
   "nbconvert_exporter": "python",
   "pygments_lexer": "ipython3",
   "version": "3.12.1"
  }
 },
 "nbformat": 4,
 "nbformat_minor": 5
}

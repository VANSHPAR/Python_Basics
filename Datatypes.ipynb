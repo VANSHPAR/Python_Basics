{
 "cells": [
  {
   "cell_type": "code",
   "execution_count": 1,
   "id": "55b234f6",
   "metadata": {},
   "outputs": [
    {
     "name": "stdout",
     "output_type": "stream",
     "text": [
      "55 26.37\n"
     ]
    }
   ],
   "source": [
    "#numerical\n",
    "x=55\n",
    "price=26.37\n",
    "print(x,price)"
   ]
  },
  {
   "cell_type": "code",
   "execution_count": 5,
   "id": "c6d214c0",
   "metadata": {},
   "outputs": [
    {
     "name": "stdout",
     "output_type": "stream",
     "text": [
      "3000000.0\n",
      "<class 'float'>\n"
     ]
    }
   ],
   "source": [
    "num=3e6\n",
    "print(num)\n",
    "print(type(num))"
   ]
  },
  {
   "cell_type": "code",
   "execution_count": 4,
   "id": "73127a6d",
   "metadata": {},
   "outputs": [
    {
     "name": "stdout",
     "output_type": "stream",
     "text": [
      "(4+6j)\n",
      "<class 'complex'>\n"
     ]
    }
   ],
   "source": [
    "z=4+6j\n",
    "print(z)\n",
    "print(type(z))"
   ]
  },
  {
   "cell_type": "code",
   "execution_count": 6,
   "id": "f302074d",
   "metadata": {},
   "outputs": [
    {
     "name": "stdout",
     "output_type": "stream",
     "text": [
      "5\n"
     ]
    }
   ],
   "source": [
    "print(round(4.8))"
   ]
  },
  {
   "cell_type": "code",
   "execution_count": 7,
   "id": "026839b8",
   "metadata": {},
   "outputs": [
    {
     "name": "stdout",
     "output_type": "stream",
     "text": [
      "8\n",
      "1\n",
      "31\n"
     ]
    }
   ],
   "source": [
    "nums=[1,8,7,6,5,4]\n",
    "print(max(nums))\n",
    "print(min(nums))\n",
    "print(sum(nums))"
   ]
  },
  {
   "cell_type": "code",
   "execution_count": 16,
   "id": "552f8ca2",
   "metadata": {},
   "outputs": [
    {
     "name": "stdout",
     "output_type": "stream",
     "text": [
      "vansh vadodara\n",
      "h\n",
      "vansh | vadodara\n",
      "16\n",
      "vansh | vado\n"
     ]
    }
   ],
   "source": [
    "name='vansh'\n",
    "city=\"vadodara\"\n",
    "print(name,city)\n",
    "print(name[-1])\n",
    "name_city=name+\" | \"+city\n",
    "print(name_city)\n",
    "print(len(name_city))\n",
    "print(name_city[0:12])"
   ]
  },
  {
   "cell_type": "code",
   "execution_count": 19,
   "id": "c9a64b8c",
   "metadata": {},
   "outputs": [
    {
     "name": "stdout",
     "output_type": "stream",
     "text": [
      "UPPER\n",
      "upper\n",
      "Upper\n",
      "  surat\n",
      "surat\n"
     ]
    }
   ],
   "source": [
    "name=\"upper\"\n",
    "print(name.upper())\n",
    "print(name.lower())\n",
    "print(name.capitalize())\n",
    "city=\"  surat\"\n",
    "print(city)\n",
    "print(city.strip())"
   ]
  },
  {
   "cell_type": "code",
   "execution_count": 20,
   "id": "615ad32d",
   "metadata": {},
   "outputs": [
    {
     "name": "stdout",
     "output_type": "stream",
     "text": [
      "hello dosto, wr are happy, wr are good\n"
     ]
    }
   ],
   "source": [
    "str=\"hello dosto, i am happy, i am good\"\n",
    "print(str.replace(\"i am\",\"wr are\"))"
   ]
  },
  {
   "cell_type": "code",
   "execution_count": 23,
   "id": "8395f98f",
   "metadata": {},
   "outputs": [
    {
     "name": "stdout",
     "output_type": "stream",
     "text": [
      "['stu1', 'stu2', 'stu3']\n",
      "<class 'list'>\n"
     ]
    }
   ],
   "source": [
    "#List\n",
    "students=[\"stu1\",\"stu2\",\"stu3\"]\n",
    "print(students)\n",
    "print(type(students))"
   ]
  },
  {
   "cell_type": "code",
   "execution_count": 25,
   "id": "e6bc26f0",
   "metadata": {},
   "outputs": [
    {
     "name": "stdout",
     "output_type": "stream",
     "text": [
      "[3, 'list2', 'list1']\n"
     ]
    }
   ],
   "source": [
    "list1=list({\"list1\",\"list2\",3})\n",
    "print(list1);"
   ]
  },
  {
   "cell_type": "code",
   "execution_count": 28,
   "id": "36c1a76a",
   "metadata": {},
   "outputs": [
    {
     "name": "stdout",
     "output_type": "stream",
     "text": [
      "[1, 5, 56, 7, 8, 99, 33, 555]\n",
      "[1, 5, 56, 43, 7, 8, 99, 33, 555]\n",
      "[5, 63, 'vab', 'etend']\n"
     ]
    }
   ],
   "source": [
    "l1=[1,5,56,7,8,99,33]\n",
    "l1.append(555)\n",
    "print(l1)\n",
    "l1.insert(3,43)\n",
    "print(l1)\n",
    "arr1=[5,63]\n",
    "arr2=[\"vab\",\"etend\"]\n",
    "arr1.extend(arr2)\n",
    "print(arr1)\n",
    "\n"
   ]
  },
  {
   "cell_type": "code",
   "execution_count": 32,
   "id": "2b3114ff",
   "metadata": {},
   "outputs": [
    {
     "name": "stdout",
     "output_type": "stream",
     "text": [
      "[5, 56, 7, 8, 99, 33]\n",
      "33\n",
      "[5, 56, 7, 8, 99]\n",
      "8\n",
      "[5, 56, 7, 99]\n"
     ]
    }
   ],
   "source": [
    "l1=[1,5,56,7,8,99,33]\n",
    "l1.remove(1)\n",
    "print(l1)\n",
    "print(l1.pop())\n",
    "print(l1)\n",
    "print(l1.pop(3))\n",
    "print(l1)\n"
   ]
  },
  {
   "cell_type": "code",
   "execution_count": 37,
   "id": "21ad25a6",
   "metadata": {},
   "outputs": [
    {
     "name": "stdout",
     "output_type": "stream",
     "text": [
      "[1, 5, 88, 87, 86, 99, 33]\n",
      "[1, 5, 77, 79, 99, 33]\n"
     ]
    }
   ],
   "source": [
    "l1=[1,5,56,7,8,99,33]\n",
    "l1[2:5]=88,87,86\n",
    "print(l1)\n",
    "l1[2:5]=77,79\n",
    "print(l1)\n"
   ]
  },
  {
   "cell_type": "code",
   "execution_count": 2,
   "id": "6cf973e7",
   "metadata": {},
   "outputs": [
    {
     "name": "stdout",
     "output_type": "stream",
     "text": [
      "[1, 5, 56, 7, 8, 99, 33]\n",
      "2327862642560\n",
      "2327862601856\n"
     ]
    }
   ],
   "source": [
    "l1=[1,5,56,7,8,99,33]\n",
    "l1_copy=l1.copy()\n",
    "print(l1_copy)\n",
    "print(id(l1_copy))\n",
    "print(id(l1))\n"
   ]
  },
  {
   "cell_type": "code",
   "execution_count": 5,
   "id": "841f101a",
   "metadata": {},
   "outputs": [
    {
     "name": "stdout",
     "output_type": "stream",
     "text": [
      "(3, 6, 8, 5, 2)\n",
      "<class 'tuple'>\n"
     ]
    }
   ],
   "source": [
    "#tuple\n",
    "tup1=(3,6,8,5,2)\n",
    "print(tup1)\n",
    "print(type(tup1))"
   ]
  },
  {
   "cell_type": "code",
   "execution_count": 6,
   "id": "c9083352",
   "metadata": {},
   "outputs": [
    {
     "name": "stdout",
     "output_type": "stream",
     "text": [
      "(1, 5, 9, 7)\n"
     ]
    }
   ],
   "source": [
    "t1=tuple({1,5,9,7})\n",
    "print(t1)"
   ]
  },
  {
   "cell_type": "code",
   "execution_count": 7,
   "id": "1cc494d1",
   "metadata": {},
   "outputs": [
    {
     "name": "stdout",
     "output_type": "stream",
     "text": [
      "<class 'tuple'>\n"
     ]
    }
   ],
   "source": [
    "t=(55,)\n",
    "print(type(t))"
   ]
  },
  {
   "cell_type": "code",
   "execution_count": null,
   "id": "70de98c0",
   "metadata": {},
   "outputs": [
    {
     "name": "stdout",
     "output_type": "stream",
     "text": [
      "2\n",
      "2\n"
     ]
    }
   ],
   "source": [
    "chars=(\"abc\",\"def\",\"ghi\",\"jkl\",\"abc\",\"mno\")\n",
    "print(chars.count('abc'))\n",
    "print(chars.index('ghi'))\n",
    "#tuples are immutable"
   ]
  },
  {
   "cell_type": "code",
   "execution_count": 13,
   "id": "6f8056e4",
   "metadata": {},
   "outputs": [
    {
     "name": "stdout",
     "output_type": "stream",
     "text": [
      "{'name': 'vansh', 'age': 18, 'city': 'vadodara'}\n"
     ]
    }
   ],
   "source": [
    "#Dictionary\n",
    "student_details={\"name\":\"vansh\",\"age\":18,\"city\":\"vadodara\"}\n",
    "print(student_details)"
   ]
  },
  {
   "cell_type": "code",
   "execution_count": 16,
   "id": "3c4eaf40",
   "metadata": {},
   "outputs": [
    {
     "name": "stdout",
     "output_type": "stream",
     "text": [
      "{'name': 'vnahs', 'one': 'yexs', 'two': 'fifth'}\n"
     ]
    }
   ],
   "source": [
    "#constructor\n",
    "dict1=dict(name=\"vnahs\",one=\"yexs\",two=\"fifth\")\n",
    "print(dict1)"
   ]
  },
  {
   "cell_type": "code",
   "execution_count": 21,
   "id": "1213c24d",
   "metadata": {},
   "outputs": [
    {
     "name": "stdout",
     "output_type": "stream",
     "text": [
      "vansh\n",
      "dict_keys(['name', 'age', 'city'])\n",
      "dict_values(['vansh', 18, 'vadodara'])\n",
      "dict_items([('name', 'vansh'), ('age', 18), ('city', 'vadodara')])\n"
     ]
    }
   ],
   "source": [
    "dict1={\"name\":\"vansh\",\"age\":18,\"city\":\"vadodara\"}\n",
    "print(dict1['name'])\n",
    "print(dict1.keys())\n",
    "print(dict1.values())\n",
    "print(dict1.items())\n"
   ]
  },
  {
   "cell_type": "code",
   "execution_count": 22,
   "id": "7c29f78a",
   "metadata": {},
   "outputs": [
    {
     "name": "stdout",
     "output_type": "stream",
     "text": [
      "dict_items([('name', 'vansh'), ('age', 18), ('city', 'vadodara'), ('country', 'india')])\n"
     ]
    }
   ],
   "source": [
    "dict1={\"name\":\"vansh\",\"age\":18,\"city\":\"vadodara\"}\n",
    "dict1[\"country\"]=\"india\"\n",
    "print(dict1.items())"
   ]
  },
  {
   "cell_type": "code",
   "execution_count": null,
   "id": "0e05ff51",
   "metadata": {},
   "outputs": [
    {
     "name": "stdout",
     "output_type": "stream",
     "text": [
      "{'name': 'vansh', 'age': 18, 'city': 'vadodara', 'phy': 50, 'chem': 58, 'math': 80}\n"
     ]
    }
   ],
   "source": [
    "dict1={\"name\":\"vansh\",\"age\":18,\"city\":\"vadodara\"}\n",
    "marks={\"phy\":50,\"chem\":58,\"math\":80}\n",
    "dict1.update(marks)\n",
    "print(dict1)\n"
   ]
  },
  {
   "cell_type": "code",
   "execution_count": 26,
   "id": "f2e3ba7f",
   "metadata": {},
   "outputs": [
    {
     "name": "stdout",
     "output_type": "stream",
     "text": [
      "vadodara\n",
      "{'name': 'vansh', 'age': 18}\n",
      "('age', 18)\n",
      "{'name': 'vansh'}\n"
     ]
    }
   ],
   "source": [
    "dict1={\"name\":\"vansh\",\"age\":18,\"city\":\"vadodara\"}\n",
    "print(dict1.pop(\"city\"))\n",
    "print(dict1)\n",
    "print(dict1.popitem())\n",
    "print(dict1)"
   ]
  },
  {
   "cell_type": "code",
   "execution_count": 48,
   "id": "892e2e83",
   "metadata": {},
   "outputs": [
    {
     "name": "stdout",
     "output_type": "stream",
     "text": [
      "{1, 2, 5, 8, 9}\n"
     ]
    }
   ],
   "source": [
    "s={1,2,5,5,8,9}\n",
    "print(s)"
   ]
  },
  {
   "cell_type": "code",
   "execution_count": 56,
   "id": "69d44dd4",
   "metadata": {},
   "outputs": [
    {
     "name": "stdout",
     "output_type": "stream",
     "text": [
      "{1, 2, 5, 7, 8, 9, 12, 120}\n"
     ]
    }
   ],
   "source": [
    "set1=set\n",
    "\n",
    "set1.add(5)\n",
    "set1.add(7)\n",
    "set1.add(5)\n",
    "set1.add(9)\n",
    "set1.add(120)\n",
    "print(set1)"
   ]
  },
  {
   "cell_type": "code",
   "execution_count": 50,
   "id": "aca90241",
   "metadata": {},
   "outputs": [
    {
     "name": "stdout",
     "output_type": "stream",
     "text": [
      "{8, 9, 3}\n"
     ]
    }
   ],
   "source": [
    "s1={3,9,7,8}\n",
    "s1.discard(7)\n",
    "print(s1)"
   ]
  },
  {
   "cell_type": "code",
   "execution_count": 53,
   "id": "5f80f788",
   "metadata": {},
   "outputs": [
    {
     "name": "stdout",
     "output_type": "stream",
     "text": [
      "frozenset({1, 2, 3})\n"
     ]
    }
   ],
   "source": [
    "#frozenset:immutable set\n",
    "fs=frozenset([1,2,3])\n",
    "print(fs)"
   ]
  },
  {
   "cell_type": "code",
   "execution_count": 57,
   "id": "afc0bce9",
   "metadata": {},
   "outputs": [
    {
     "name": "stdout",
     "output_type": "stream",
     "text": [
      "11.5\n"
     ]
    }
   ],
   "source": [
    "#implicit typecasting\n",
    "x=5\n",
    "y=6.5\n",
    "x=x+y\n",
    "print(x)"
   ]
  },
  {
   "cell_type": "code",
   "execution_count": null,
   "id": "7071a7e5",
   "metadata": {},
   "outputs": [
    {
     "name": "stdout",
     "output_type": "stream",
     "text": [
      "100\n",
      "<class 'int'>\n"
     ]
    }
   ],
   "source": [
    "#explicit typecasting\n",
    "y='100'\n",
    "x=int(y)\n",
    "print(x)\n",
    "print(type(x))\n",
    "#str()\n",
    "#float()\n",
    "\n"
   ]
  }
 ],
 "metadata": {
  "kernelspec": {
   "display_name": "Python 3",
   "language": "python",
   "name": "python3"
  },
  "language_info": {
   "codemirror_mode": {
    "name": "ipython",
    "version": 3
   },
   "file_extension": ".py",
   "mimetype": "text/x-python",
   "name": "python",
   "nbconvert_exporter": "python",
   "pygments_lexer": "ipython3",
   "version": "3.12.1"
  }
 },
 "nbformat": 4,
 "nbformat_minor": 5
}
